{
 "cells": [
  {
   "cell_type": "code",
   "execution_count": 1,
   "metadata": {},
   "outputs": [
    {
     "ename": "KeyboardInterrupt",
     "evalue": "",
     "output_type": "error",
     "traceback": [
      "\u001b[1;31m---------------------------------------------------------------------------\u001b[0m",
      "\u001b[1;31mKeyboardInterrupt\u001b[0m                         Traceback (most recent call last)",
      "Cell \u001b[1;32mIn[1], line 2\u001b[0m\n\u001b[0;32m      1\u001b[0m \u001b[38;5;28;01mimport\u001b[39;00m \u001b[38;5;21;01mpandas\u001b[39;00m \u001b[38;5;28;01mas\u001b[39;00m \u001b[38;5;21;01mpd\u001b[39;00m\n\u001b[1;32m----> 2\u001b[0m \u001b[38;5;28;01mfrom\u001b[39;00m \u001b[38;5;21;01mpycaret\u001b[39;00m\u001b[38;5;21;01m.\u001b[39;00m\u001b[38;5;21;01mclassification\u001b[39;00m \u001b[38;5;28;01mimport\u001b[39;00m \u001b[38;5;241m*\u001b[39m\n\u001b[0;32m      3\u001b[0m \u001b[38;5;28;01mfrom\u001b[39;00m \u001b[38;5;21;01mpycaret\u001b[39;00m\u001b[38;5;21;01m.\u001b[39;00m\u001b[38;5;21;01mregression\u001b[39;00m \u001b[38;5;28;01mimport\u001b[39;00m \u001b[38;5;241m*\u001b[39m\n\u001b[0;32m      5\u001b[0m \u001b[38;5;28;01mimport\u001b[39;00m \u001b[38;5;21;01mpandas\u001b[39;00m \u001b[38;5;28;01mas\u001b[39;00m \u001b[38;5;21;01mpd\u001b[39;00m\n",
      "File \u001b[1;32mc:\\Users\\lruiz\\miniforge3\\envs\\py311\\Lib\\site-packages\\pycaret\\classification\\__init__.py:1\u001b[0m\n\u001b[1;32m----> 1\u001b[0m \u001b[38;5;28;01mfrom\u001b[39;00m \u001b[38;5;21;01mpycaret\u001b[39;00m\u001b[38;5;21;01m.\u001b[39;00m\u001b[38;5;21;01mclassification\u001b[39;00m\u001b[38;5;21;01m.\u001b[39;00m\u001b[38;5;21;01mfunctional\u001b[39;00m \u001b[38;5;28;01mimport\u001b[39;00m (\n\u001b[0;32m      2\u001b[0m     add_metric,\n\u001b[0;32m      3\u001b[0m     automl,\n\u001b[0;32m      4\u001b[0m     blend_models,\n\u001b[0;32m      5\u001b[0m     calibrate_model,\n\u001b[0;32m      6\u001b[0m     check_drift,\n\u001b[0;32m      7\u001b[0m     check_fairness,\n\u001b[0;32m      8\u001b[0m     compare_models,\n\u001b[0;32m      9\u001b[0m     convert_model,\n\u001b[0;32m     10\u001b[0m     create_api,\n\u001b[0;32m     11\u001b[0m     create_app,\n\u001b[0;32m     12\u001b[0m     create_docker,\n\u001b[0;32m     13\u001b[0m     create_model,\n\u001b[0;32m     14\u001b[0m     dashboard,\n\u001b[0;32m     15\u001b[0m     deploy_model,\n\u001b[0;32m     16\u001b[0m     ensemble_model,\n\u001b[0;32m     17\u001b[0m     evaluate_model,\n\u001b[0;32m     18\u001b[0m     finalize_model,\n\u001b[0;32m     19\u001b[0m     get_allowed_engines,\n\u001b[0;32m     20\u001b[0m     get_config,\n\u001b[0;32m     21\u001b[0m     get_current_experiment,\n\u001b[0;32m     22\u001b[0m     get_engine,\n\u001b[0;32m     23\u001b[0m     get_leaderboard,\n\u001b[0;32m     24\u001b[0m     get_logs,\n\u001b[0;32m     25\u001b[0m     get_metrics,\n\u001b[0;32m     26\u001b[0m     interpret_model,\n\u001b[0;32m     27\u001b[0m     load_experiment,\n\u001b[0;32m     28\u001b[0m     load_model,\n\u001b[0;32m     29\u001b[0m     models,\n\u001b[0;32m     30\u001b[0m     optimize_threshold,\n\u001b[0;32m     31\u001b[0m     plot_model,\n\u001b[0;32m     32\u001b[0m     predict_model,\n\u001b[0;32m     33\u001b[0m     pull,\n\u001b[0;32m     34\u001b[0m     remove_metric,\n\u001b[0;32m     35\u001b[0m     save_experiment,\n\u001b[0;32m     36\u001b[0m     save_model,\n\u001b[0;32m     37\u001b[0m     set_config,\n\u001b[0;32m     38\u001b[0m     set_current_experiment,\n\u001b[0;32m     39\u001b[0m     setup,\n\u001b[0;32m     40\u001b[0m     stack_models,\n\u001b[0;32m     41\u001b[0m     tune_model,\n\u001b[0;32m     42\u001b[0m )\n\u001b[0;32m     43\u001b[0m \u001b[38;5;28;01mfrom\u001b[39;00m \u001b[38;5;21;01mpycaret\u001b[39;00m\u001b[38;5;21;01m.\u001b[39;00m\u001b[38;5;21;01mclassification\u001b[39;00m\u001b[38;5;21;01m.\u001b[39;00m\u001b[38;5;21;01moop\u001b[39;00m \u001b[38;5;28;01mimport\u001b[39;00m ClassificationExperiment\n\u001b[0;32m     45\u001b[0m __all__ \u001b[38;5;241m=\u001b[39m [\n\u001b[0;32m     46\u001b[0m     \u001b[38;5;124m\"\u001b[39m\u001b[38;5;124mClassificationExperiment\u001b[39m\u001b[38;5;124m\"\u001b[39m,\n\u001b[0;32m     47\u001b[0m     \u001b[38;5;124m\"\u001b[39m\u001b[38;5;124msetup\u001b[39m\u001b[38;5;124m\"\u001b[39m,\n\u001b[1;32m   (...)\u001b[0m\n\u001b[0;32m     86\u001b[0m     \u001b[38;5;124m\"\u001b[39m\u001b[38;5;124mcheck_drift\u001b[39m\u001b[38;5;124m\"\u001b[39m,\n\u001b[0;32m     87\u001b[0m ]\n",
      "File \u001b[1;32mc:\\Users\\lruiz\\miniforge3\\envs\\py311\\Lib\\site-packages\\pycaret\\classification\\functional.py:8\u001b[0m\n\u001b[0;32m      5\u001b[0m \u001b[38;5;28;01mimport\u001b[39;00m \u001b[38;5;21;01mpandas\u001b[39;00m \u001b[38;5;28;01mas\u001b[39;00m \u001b[38;5;21;01mpd\u001b[39;00m\n\u001b[0;32m      6\u001b[0m \u001b[38;5;28;01mfrom\u001b[39;00m \u001b[38;5;21;01mjoblib\u001b[39;00m\u001b[38;5;21;01m.\u001b[39;00m\u001b[38;5;21;01mmemory\u001b[39;00m \u001b[38;5;28;01mimport\u001b[39;00m Memory\n\u001b[1;32m----> 8\u001b[0m \u001b[38;5;28;01mfrom\u001b[39;00m \u001b[38;5;21;01mpycaret\u001b[39;00m\u001b[38;5;21;01m.\u001b[39;00m\u001b[38;5;21;01mclassification\u001b[39;00m\u001b[38;5;21;01m.\u001b[39;00m\u001b[38;5;21;01moop\u001b[39;00m \u001b[38;5;28;01mimport\u001b[39;00m ClassificationExperiment\n\u001b[0;32m      9\u001b[0m \u001b[38;5;28;01mfrom\u001b[39;00m \u001b[38;5;21;01mpycaret\u001b[39;00m\u001b[38;5;21;01m.\u001b[39;00m\u001b[38;5;21;01minternal\u001b[39;00m\u001b[38;5;21;01m.\u001b[39;00m\u001b[38;5;21;01mparallel\u001b[39;00m\u001b[38;5;21;01m.\u001b[39;00m\u001b[38;5;21;01mparallel_backend\u001b[39;00m \u001b[38;5;28;01mimport\u001b[39;00m ParallelBackend\n\u001b[0;32m     10\u001b[0m \u001b[38;5;28;01mfrom\u001b[39;00m \u001b[38;5;21;01mpycaret\u001b[39;00m\u001b[38;5;21;01m.\u001b[39;00m\u001b[38;5;21;01mloggers\u001b[39;00m\u001b[38;5;21;01m.\u001b[39;00m\u001b[38;5;21;01mbase_logger\u001b[39;00m \u001b[38;5;28;01mimport\u001b[39;00m BaseLogger\n",
      "File \u001b[1;32mc:\\Users\\lruiz\\miniforge3\\envs\\py311\\Lib\\site-packages\\pycaret\\classification\\oop.py:16\u001b[0m\n\u001b[0;32m     13\u001b[0m \u001b[38;5;28;01mfrom\u001b[39;00m \u001b[38;5;21;01mjoblib\u001b[39;00m\u001b[38;5;21;01m.\u001b[39;00m\u001b[38;5;21;01mmemory\u001b[39;00m \u001b[38;5;28;01mimport\u001b[39;00m Memory\n\u001b[0;32m     14\u001b[0m \u001b[38;5;28;01mfrom\u001b[39;00m \u001b[38;5;21;01mscipy\u001b[39;00m\u001b[38;5;21;01m.\u001b[39;00m\u001b[38;5;21;01moptimize\u001b[39;00m \u001b[38;5;28;01mimport\u001b[39;00m shgo\n\u001b[1;32m---> 16\u001b[0m \u001b[38;5;28;01mfrom\u001b[39;00m \u001b[38;5;21;01mpycaret\u001b[39;00m\u001b[38;5;21;01m.\u001b[39;00m\u001b[38;5;21;01mcontainers\u001b[39;00m\u001b[38;5;21;01m.\u001b[39;00m\u001b[38;5;21;01mmetrics\u001b[39;00m\u001b[38;5;21;01m.\u001b[39;00m\u001b[38;5;21;01mclassification\u001b[39;00m \u001b[38;5;28;01mimport\u001b[39;00m get_all_metric_containers\n\u001b[0;32m     17\u001b[0m \u001b[38;5;28;01mfrom\u001b[39;00m \u001b[38;5;21;01mpycaret\u001b[39;00m\u001b[38;5;21;01m.\u001b[39;00m\u001b[38;5;21;01mcontainers\u001b[39;00m\u001b[38;5;21;01m.\u001b[39;00m\u001b[38;5;21;01mmodels\u001b[39;00m\u001b[38;5;21;01m.\u001b[39;00m\u001b[38;5;21;01mclassification\u001b[39;00m \u001b[38;5;28;01mimport\u001b[39;00m (\n\u001b[0;32m     18\u001b[0m     ALL_ALLOWED_ENGINES,\n\u001b[0;32m     19\u001b[0m     get_all_model_containers,\n\u001b[0;32m     20\u001b[0m     get_container_default_engines,\n\u001b[0;32m     21\u001b[0m )\n\u001b[0;32m     22\u001b[0m \u001b[38;5;28;01mfrom\u001b[39;00m \u001b[38;5;21;01mpycaret\u001b[39;00m\u001b[38;5;21;01m.\u001b[39;00m\u001b[38;5;21;01minternal\u001b[39;00m\u001b[38;5;21;01m.\u001b[39;00m\u001b[38;5;21;01mdisplay\u001b[39;00m \u001b[38;5;28;01mimport\u001b[39;00m CommonDisplay\n",
      "File \u001b[1;32mc:\\Users\\lruiz\\miniforge3\\envs\\py311\\Lib\\site-packages\\pycaret\\containers\\metrics\\classification.py:13\u001b[0m\n\u001b[0;32m      1\u001b[0m \u001b[38;5;66;03m# Module: containers.metrics.classification\u001b[39;00m\n\u001b[0;32m      2\u001b[0m \u001b[38;5;66;03m# Author: Antoni Baum (Yard1) <antoni.baum@protonmail.com>\u001b[39;00m\n\u001b[0;32m      3\u001b[0m \u001b[38;5;66;03m# License: MIT\u001b[39;00m\n\u001b[1;32m   (...)\u001b[0m\n\u001b[0;32m      8\u001b[0m \u001b[38;5;66;03m# `ClassificationMetricContainer` as a base, set all of the required parameters in the `__init__` and then call `super().__init__`\u001b[39;00m\n\u001b[0;32m      9\u001b[0m \u001b[38;5;66;03m# to complete the process. Refer to the existing classes for examples.\u001b[39;00m\n\u001b[0;32m     11\u001b[0m \u001b[38;5;28;01mfrom\u001b[39;00m \u001b[38;5;21;01mtyping\u001b[39;00m \u001b[38;5;28;01mimport\u001b[39;00m Any, Dict, Optional, Union\n\u001b[1;32m---> 13\u001b[0m \u001b[38;5;28;01mfrom\u001b[39;00m \u001b[38;5;21;01msklearn\u001b[39;00m \u001b[38;5;28;01mimport\u001b[39;00m metrics\n\u001b[0;32m     14\u001b[0m \u001b[38;5;28;01mfrom\u001b[39;00m \u001b[38;5;21;01msklearn\u001b[39;00m\u001b[38;5;21;01m.\u001b[39;00m\u001b[38;5;21;01mmetrics\u001b[39;00m\u001b[38;5;21;01m.\u001b[39;00m\u001b[38;5;21;01m_scorer\u001b[39;00m \u001b[38;5;28;01mimport\u001b[39;00m _BaseScorer\n\u001b[0;32m     16\u001b[0m \u001b[38;5;28;01mimport\u001b[39;00m \u001b[38;5;21;01mpycaret\u001b[39;00m\u001b[38;5;21;01m.\u001b[39;00m\u001b[38;5;21;01mcontainers\u001b[39;00m\u001b[38;5;21;01m.\u001b[39;00m\u001b[38;5;21;01mbase_container\u001b[39;00m\n",
      "File \u001b[1;32mc:\\Users\\lruiz\\miniforge3\\envs\\py311\\Lib\\site-packages\\sklearn\\metrics\\__init__.py:7\u001b[0m\n\u001b[0;32m      1\u001b[0m \u001b[38;5;124;03m\"\"\"\u001b[39;00m\n\u001b[0;32m      2\u001b[0m \u001b[38;5;124;03mThe :mod:`sklearn.metrics` module includes score functions, performance metrics\u001b[39;00m\n\u001b[0;32m      3\u001b[0m \u001b[38;5;124;03mand pairwise metrics and distance computations.\u001b[39;00m\n\u001b[0;32m      4\u001b[0m \u001b[38;5;124;03m\"\"\"\u001b[39;00m\n\u001b[1;32m----> 7\u001b[0m \u001b[38;5;28;01mfrom\u001b[39;00m \u001b[38;5;21;01m.\u001b[39;00m\u001b[38;5;21;01m_ranking\u001b[39;00m \u001b[38;5;28;01mimport\u001b[39;00m auc\n\u001b[0;32m      8\u001b[0m \u001b[38;5;28;01mfrom\u001b[39;00m \u001b[38;5;21;01m.\u001b[39;00m\u001b[38;5;21;01m_ranking\u001b[39;00m \u001b[38;5;28;01mimport\u001b[39;00m average_precision_score\n\u001b[0;32m      9\u001b[0m \u001b[38;5;28;01mfrom\u001b[39;00m \u001b[38;5;21;01m.\u001b[39;00m\u001b[38;5;21;01m_ranking\u001b[39;00m \u001b[38;5;28;01mimport\u001b[39;00m coverage_error\n",
      "File \u001b[1;32mc:\\Users\\lruiz\\miniforge3\\envs\\py311\\Lib\\site-packages\\sklearn\\metrics\\_ranking.py:34\u001b[0m\n\u001b[0;32m     32\u001b[0m \u001b[38;5;28;01mfrom\u001b[39;00m \u001b[38;5;21;01m.\u001b[39;00m\u001b[38;5;21;01m.\u001b[39;00m\u001b[38;5;21;01mutils\u001b[39;00m \u001b[38;5;28;01mimport\u001b[39;00m column_or_1d, check_array\n\u001b[0;32m     33\u001b[0m \u001b[38;5;28;01mfrom\u001b[39;00m \u001b[38;5;21;01m.\u001b[39;00m\u001b[38;5;21;01m.\u001b[39;00m\u001b[38;5;21;01mutils\u001b[39;00m\u001b[38;5;21;01m.\u001b[39;00m\u001b[38;5;21;01mmulticlass\u001b[39;00m \u001b[38;5;28;01mimport\u001b[39;00m type_of_target\n\u001b[1;32m---> 34\u001b[0m \u001b[38;5;28;01mfrom\u001b[39;00m \u001b[38;5;21;01m.\u001b[39;00m\u001b[38;5;21;01m.\u001b[39;00m\u001b[38;5;21;01mutils\u001b[39;00m\u001b[38;5;21;01m.\u001b[39;00m\u001b[38;5;21;01mextmath\u001b[39;00m \u001b[38;5;28;01mimport\u001b[39;00m stable_cumsum\n\u001b[0;32m     35\u001b[0m \u001b[38;5;28;01mfrom\u001b[39;00m \u001b[38;5;21;01m.\u001b[39;00m\u001b[38;5;21;01m.\u001b[39;00m\u001b[38;5;21;01mutils\u001b[39;00m\u001b[38;5;21;01m.\u001b[39;00m\u001b[38;5;21;01msparsefuncs\u001b[39;00m \u001b[38;5;28;01mimport\u001b[39;00m count_nonzero\n\u001b[0;32m     36\u001b[0m \u001b[38;5;28;01mfrom\u001b[39;00m \u001b[38;5;21;01m.\u001b[39;00m\u001b[38;5;21;01m.\u001b[39;00m\u001b[38;5;21;01mexceptions\u001b[39;00m \u001b[38;5;28;01mimport\u001b[39;00m UndefinedMetricWarning\n",
      "File \u001b[1;32mc:\\Users\\lruiz\\miniforge3\\envs\\py311\\Lib\\site-packages\\sklearn\\utils\\extmath.py:21\u001b[0m\n\u001b[0;32m     19\u001b[0m \u001b[38;5;28;01mfrom\u001b[39;00m \u001b[38;5;21;01m.\u001b[39;00m \u001b[38;5;28;01mimport\u001b[39;00m check_random_state\n\u001b[0;32m     20\u001b[0m \u001b[38;5;28;01mfrom\u001b[39;00m \u001b[38;5;21;01m.\u001b[39;00m\u001b[38;5;21;01m_logistic_sigmoid\u001b[39;00m \u001b[38;5;28;01mimport\u001b[39;00m _log_logistic_sigmoid\n\u001b[1;32m---> 21\u001b[0m \u001b[38;5;28;01mfrom\u001b[39;00m \u001b[38;5;21;01m.\u001b[39;00m\u001b[38;5;21;01msparsefuncs_fast\u001b[39;00m \u001b[38;5;28;01mimport\u001b[39;00m csr_row_norms\n\u001b[0;32m     22\u001b[0m \u001b[38;5;28;01mfrom\u001b[39;00m \u001b[38;5;21;01m.\u001b[39;00m\u001b[38;5;21;01mvalidation\u001b[39;00m \u001b[38;5;28;01mimport\u001b[39;00m check_array\n\u001b[0;32m     23\u001b[0m \u001b[38;5;28;01mfrom\u001b[39;00m \u001b[38;5;21;01m.\u001b[39;00m\u001b[38;5;21;01m_array_api\u001b[39;00m \u001b[38;5;28;01mimport\u001b[39;00m get_namespace\n",
      "File \u001b[1;32m<frozen importlib._bootstrap>:405\u001b[0m, in \u001b[0;36mparent\u001b[1;34m(self)\u001b[0m\n",
      "\u001b[1;31mKeyboardInterrupt\u001b[0m: "
     ]
    }
   ],
   "source": [
    "import pandas as pd\n",
    "from pycaret.classification import *\n",
    "from pycaret.regression import *\n",
    "\n",
    "import pandas as pd\n",
    "import numpy as np\n",
    "import seaborn as sns\n",
    "import matplotlib.pyplot as plt\n",
    "import plotly.express as px\n",
    "import warnings"
   ]
  },
  {
   "cell_type": "code",
   "execution_count": null,
   "metadata": {},
   "outputs": [],
   "source": [
    "data = pd.read_csv('./CovidData.csv')\n"
   ]
  },
  {
   "cell_type": "code",
   "execution_count": null,
   "metadata": {},
   "outputs": [
    {
     "data": {
      "text/html": [
       "<style type=\"text/css\">\n",
       "#T_ad042_row9_col1 {\n",
       "  background-color: lightgreen;\n",
       "}\n",
       "</style>\n",
       "<table id=\"T_ad042\">\n",
       "  <thead>\n",
       "    <tr>\n",
       "      <th class=\"blank level0\" >&nbsp;</th>\n",
       "      <th id=\"T_ad042_level0_col0\" class=\"col_heading level0 col0\" >Description</th>\n",
       "      <th id=\"T_ad042_level0_col1\" class=\"col_heading level0 col1\" >Value</th>\n",
       "    </tr>\n",
       "  </thead>\n",
       "  <tbody>\n",
       "    <tr>\n",
       "      <th id=\"T_ad042_level0_row0\" class=\"row_heading level0 row0\" >0</th>\n",
       "      <td id=\"T_ad042_row0_col0\" class=\"data row0 col0\" >Session id</td>\n",
       "      <td id=\"T_ad042_row0_col1\" class=\"data row0 col1\" >123</td>\n",
       "    </tr>\n",
       "    <tr>\n",
       "      <th id=\"T_ad042_level0_row1\" class=\"row_heading level0 row1\" >1</th>\n",
       "      <td id=\"T_ad042_row1_col0\" class=\"data row1 col0\" >Target</td>\n",
       "      <td id=\"T_ad042_row1_col1\" class=\"data row1 col1\" >CLASIFFICATION_FINAL</td>\n",
       "    </tr>\n",
       "    <tr>\n",
       "      <th id=\"T_ad042_level0_row2\" class=\"row_heading level0 row2\" >2</th>\n",
       "      <td id=\"T_ad042_row2_col0\" class=\"data row2 col0\" >Target type</td>\n",
       "      <td id=\"T_ad042_row2_col1\" class=\"data row2 col1\" >Regression</td>\n",
       "    </tr>\n",
       "    <tr>\n",
       "      <th id=\"T_ad042_level0_row3\" class=\"row_heading level0 row3\" >3</th>\n",
       "      <td id=\"T_ad042_row3_col0\" class=\"data row3 col0\" >Original data shape</td>\n",
       "      <td id=\"T_ad042_row3_col1\" class=\"data row3 col1\" >(1048575, 21)</td>\n",
       "    </tr>\n",
       "    <tr>\n",
       "      <th id=\"T_ad042_level0_row4\" class=\"row_heading level0 row4\" >4</th>\n",
       "      <td id=\"T_ad042_row4_col0\" class=\"data row4 col0\" >Transformed data shape</td>\n",
       "      <td id=\"T_ad042_row4_col1\" class=\"data row4 col1\" >(1048575, 21)</td>\n",
       "    </tr>\n",
       "    <tr>\n",
       "      <th id=\"T_ad042_level0_row5\" class=\"row_heading level0 row5\" >5</th>\n",
       "      <td id=\"T_ad042_row5_col0\" class=\"data row5 col0\" >Transformed train set shape</td>\n",
       "      <td id=\"T_ad042_row5_col1\" class=\"data row5 col1\" >(734002, 21)</td>\n",
       "    </tr>\n",
       "    <tr>\n",
       "      <th id=\"T_ad042_level0_row6\" class=\"row_heading level0 row6\" >6</th>\n",
       "      <td id=\"T_ad042_row6_col0\" class=\"data row6 col0\" >Transformed test set shape</td>\n",
       "      <td id=\"T_ad042_row6_col1\" class=\"data row6 col1\" >(314573, 21)</td>\n",
       "    </tr>\n",
       "    <tr>\n",
       "      <th id=\"T_ad042_level0_row7\" class=\"row_heading level0 row7\" >7</th>\n",
       "      <td id=\"T_ad042_row7_col0\" class=\"data row7 col0\" >Numeric features</td>\n",
       "      <td id=\"T_ad042_row7_col1\" class=\"data row7 col1\" >19</td>\n",
       "    </tr>\n",
       "    <tr>\n",
       "      <th id=\"T_ad042_level0_row8\" class=\"row_heading level0 row8\" >8</th>\n",
       "      <td id=\"T_ad042_row8_col0\" class=\"data row8 col0\" >Categorical features</td>\n",
       "      <td id=\"T_ad042_row8_col1\" class=\"data row8 col1\" >1</td>\n",
       "    </tr>\n",
       "    <tr>\n",
       "      <th id=\"T_ad042_level0_row9\" class=\"row_heading level0 row9\" >9</th>\n",
       "      <td id=\"T_ad042_row9_col0\" class=\"data row9 col0\" >Preprocess</td>\n",
       "      <td id=\"T_ad042_row9_col1\" class=\"data row9 col1\" >True</td>\n",
       "    </tr>\n",
       "    <tr>\n",
       "      <th id=\"T_ad042_level0_row10\" class=\"row_heading level0 row10\" >10</th>\n",
       "      <td id=\"T_ad042_row10_col0\" class=\"data row10 col0\" >Imputation type</td>\n",
       "      <td id=\"T_ad042_row10_col1\" class=\"data row10 col1\" >simple</td>\n",
       "    </tr>\n",
       "    <tr>\n",
       "      <th id=\"T_ad042_level0_row11\" class=\"row_heading level0 row11\" >11</th>\n",
       "      <td id=\"T_ad042_row11_col0\" class=\"data row11 col0\" >Numeric imputation</td>\n",
       "      <td id=\"T_ad042_row11_col1\" class=\"data row11 col1\" >mean</td>\n",
       "    </tr>\n",
       "    <tr>\n",
       "      <th id=\"T_ad042_level0_row12\" class=\"row_heading level0 row12\" >12</th>\n",
       "      <td id=\"T_ad042_row12_col0\" class=\"data row12 col0\" >Categorical imputation</td>\n",
       "      <td id=\"T_ad042_row12_col1\" class=\"data row12 col1\" >mode</td>\n",
       "    </tr>\n",
       "    <tr>\n",
       "      <th id=\"T_ad042_level0_row13\" class=\"row_heading level0 row13\" >13</th>\n",
       "      <td id=\"T_ad042_row13_col0\" class=\"data row13 col0\" >Maximum one-hot encoding</td>\n",
       "      <td id=\"T_ad042_row13_col1\" class=\"data row13 col1\" >25</td>\n",
       "    </tr>\n",
       "    <tr>\n",
       "      <th id=\"T_ad042_level0_row14\" class=\"row_heading level0 row14\" >14</th>\n",
       "      <td id=\"T_ad042_row14_col0\" class=\"data row14 col0\" >Encoding method</td>\n",
       "      <td id=\"T_ad042_row14_col1\" class=\"data row14 col1\" >None</td>\n",
       "    </tr>\n",
       "    <tr>\n",
       "      <th id=\"T_ad042_level0_row15\" class=\"row_heading level0 row15\" >15</th>\n",
       "      <td id=\"T_ad042_row15_col0\" class=\"data row15 col0\" >Fold Generator</td>\n",
       "      <td id=\"T_ad042_row15_col1\" class=\"data row15 col1\" >KFold</td>\n",
       "    </tr>\n",
       "    <tr>\n",
       "      <th id=\"T_ad042_level0_row16\" class=\"row_heading level0 row16\" >16</th>\n",
       "      <td id=\"T_ad042_row16_col0\" class=\"data row16 col0\" >Fold Number</td>\n",
       "      <td id=\"T_ad042_row16_col1\" class=\"data row16 col1\" >10</td>\n",
       "    </tr>\n",
       "    <tr>\n",
       "      <th id=\"T_ad042_level0_row17\" class=\"row_heading level0 row17\" >17</th>\n",
       "      <td id=\"T_ad042_row17_col0\" class=\"data row17 col0\" >CPU Jobs</td>\n",
       "      <td id=\"T_ad042_row17_col1\" class=\"data row17 col1\" >-1</td>\n",
       "    </tr>\n",
       "    <tr>\n",
       "      <th id=\"T_ad042_level0_row18\" class=\"row_heading level0 row18\" >18</th>\n",
       "      <td id=\"T_ad042_row18_col0\" class=\"data row18 col0\" >Use GPU</td>\n",
       "      <td id=\"T_ad042_row18_col1\" class=\"data row18 col1\" >False</td>\n",
       "    </tr>\n",
       "    <tr>\n",
       "      <th id=\"T_ad042_level0_row19\" class=\"row_heading level0 row19\" >19</th>\n",
       "      <td id=\"T_ad042_row19_col0\" class=\"data row19 col0\" >Log Experiment</td>\n",
       "      <td id=\"T_ad042_row19_col1\" class=\"data row19 col1\" >False</td>\n",
       "    </tr>\n",
       "    <tr>\n",
       "      <th id=\"T_ad042_level0_row20\" class=\"row_heading level0 row20\" >20</th>\n",
       "      <td id=\"T_ad042_row20_col0\" class=\"data row20 col0\" >Experiment Name</td>\n",
       "      <td id=\"T_ad042_row20_col1\" class=\"data row20 col1\" >reg-default-name</td>\n",
       "    </tr>\n",
       "    <tr>\n",
       "      <th id=\"T_ad042_level0_row21\" class=\"row_heading level0 row21\" >21</th>\n",
       "      <td id=\"T_ad042_row21_col0\" class=\"data row21 col0\" >USI</td>\n",
       "      <td id=\"T_ad042_row21_col1\" class=\"data row21 col1\" >33fe</td>\n",
       "    </tr>\n",
       "  </tbody>\n",
       "</table>\n"
      ],
      "text/plain": [
       "<pandas.io.formats.style.Styler at 0x23d022104d0>"
      ]
     },
     "metadata": {},
     "output_type": "display_data"
    }
   ],
   "source": [
    "reg = setup(data,target='CLASIFFICATION_FINAL', train_size = 0.7, session_id = 123)"
   ]
  },
  {
   "cell_type": "code",
   "execution_count": null,
   "metadata": {},
   "outputs": [
    {
     "data": {
      "text/html": [],
      "text/plain": [
       "<IPython.core.display.HTML object>"
      ]
     },
     "metadata": {},
     "output_type": "display_data"
    },
    {
     "data": {
      "text/html": [
       "<style type=\"text/css\">\n",
       "#T_2c111 th {\n",
       "  text-align: left;\n",
       "}\n",
       "#T_2c111_row0_col0, #T_2c111_row0_col1, #T_2c111_row1_col0, #T_2c111_row1_col1, #T_2c111_row1_col2, #T_2c111_row1_col3, #T_2c111_row1_col4, #T_2c111_row1_col5, #T_2c111_row1_col6, #T_2c111_row2_col0, #T_2c111_row2_col1, #T_2c111_row2_col2, #T_2c111_row2_col3, #T_2c111_row2_col4, #T_2c111_row2_col5, #T_2c111_row2_col6, #T_2c111_row3_col0, #T_2c111_row3_col1, #T_2c111_row3_col2, #T_2c111_row3_col3, #T_2c111_row3_col4, #T_2c111_row3_col5, #T_2c111_row3_col6, #T_2c111_row4_col0, #T_2c111_row4_col1, #T_2c111_row4_col2, #T_2c111_row4_col3, #T_2c111_row4_col4, #T_2c111_row4_col5, #T_2c111_row4_col6, #T_2c111_row5_col0, #T_2c111_row5_col2, #T_2c111_row5_col3, #T_2c111_row5_col4, #T_2c111_row5_col5, #T_2c111_row5_col6, #T_2c111_row6_col0, #T_2c111_row6_col1, #T_2c111_row6_col2, #T_2c111_row6_col3, #T_2c111_row6_col4, #T_2c111_row6_col5, #T_2c111_row6_col6, #T_2c111_row7_col0, #T_2c111_row7_col1, #T_2c111_row7_col2, #T_2c111_row7_col3, #T_2c111_row7_col4, #T_2c111_row7_col5, #T_2c111_row7_col6, #T_2c111_row8_col0, #T_2c111_row8_col1, #T_2c111_row8_col2, #T_2c111_row8_col3, #T_2c111_row8_col4, #T_2c111_row8_col5, #T_2c111_row8_col6, #T_2c111_row9_col0, #T_2c111_row9_col1, #T_2c111_row9_col2, #T_2c111_row9_col3, #T_2c111_row9_col4, #T_2c111_row9_col5, #T_2c111_row9_col6, #T_2c111_row10_col0, #T_2c111_row10_col1, #T_2c111_row10_col2, #T_2c111_row10_col3, #T_2c111_row10_col4, #T_2c111_row10_col5, #T_2c111_row10_col6, #T_2c111_row11_col0, #T_2c111_row11_col1, #T_2c111_row11_col2, #T_2c111_row11_col3, #T_2c111_row11_col4, #T_2c111_row11_col5, #T_2c111_row11_col6, #T_2c111_row12_col0, #T_2c111_row12_col1, #T_2c111_row12_col2, #T_2c111_row12_col3, #T_2c111_row12_col4, #T_2c111_row12_col5, #T_2c111_row12_col6, #T_2c111_row13_col0, #T_2c111_row13_col1, #T_2c111_row13_col2, #T_2c111_row13_col3, #T_2c111_row13_col4, #T_2c111_row13_col5, #T_2c111_row13_col6, #T_2c111_row14_col0, #T_2c111_row14_col1, #T_2c111_row14_col2, #T_2c111_row14_col3, #T_2c111_row14_col4, #T_2c111_row14_col5, #T_2c111_row14_col6, #T_2c111_row15_col0, #T_2c111_row15_col1, #T_2c111_row15_col2, #T_2c111_row15_col3, #T_2c111_row15_col4, #T_2c111_row15_col5, #T_2c111_row15_col6, #T_2c111_row16_col0, #T_2c111_row16_col1, #T_2c111_row16_col2, #T_2c111_row16_col3, #T_2c111_row16_col4, #T_2c111_row16_col5, #T_2c111_row16_col6 {\n",
       "  text-align: left;\n",
       "}\n",
       "#T_2c111_row0_col2, #T_2c111_row0_col3, #T_2c111_row0_col4, #T_2c111_row0_col5, #T_2c111_row0_col6, #T_2c111_row5_col1 {\n",
       "  text-align: left;\n",
       "  background-color: yellow;\n",
       "}\n",
       "#T_2c111_row0_col7, #T_2c111_row1_col7, #T_2c111_row2_col7, #T_2c111_row3_col7, #T_2c111_row4_col7, #T_2c111_row5_col7, #T_2c111_row6_col7, #T_2c111_row8_col7, #T_2c111_row9_col7, #T_2c111_row10_col7, #T_2c111_row11_col7, #T_2c111_row12_col7, #T_2c111_row13_col7, #T_2c111_row14_col7, #T_2c111_row15_col7, #T_2c111_row16_col7 {\n",
       "  text-align: left;\n",
       "  background-color: lightgrey;\n",
       "}\n",
       "#T_2c111_row7_col7 {\n",
       "  text-align: left;\n",
       "  background-color: yellow;\n",
       "  background-color: lightgrey;\n",
       "}\n",
       "</style>\n",
       "<table id=\"T_2c111\">\n",
       "  <thead>\n",
       "    <tr>\n",
       "      <th class=\"blank level0\" >&nbsp;</th>\n",
       "      <th id=\"T_2c111_level0_col0\" class=\"col_heading level0 col0\" >Model</th>\n",
       "      <th id=\"T_2c111_level0_col1\" class=\"col_heading level0 col1\" >MAE</th>\n",
       "      <th id=\"T_2c111_level0_col2\" class=\"col_heading level0 col2\" >MSE</th>\n",
       "      <th id=\"T_2c111_level0_col3\" class=\"col_heading level0 col3\" >RMSE</th>\n",
       "      <th id=\"T_2c111_level0_col4\" class=\"col_heading level0 col4\" >R2</th>\n",
       "      <th id=\"T_2c111_level0_col5\" class=\"col_heading level0 col5\" >RMSLE</th>\n",
       "      <th id=\"T_2c111_level0_col6\" class=\"col_heading level0 col6\" >MAPE</th>\n",
       "      <th id=\"T_2c111_level0_col7\" class=\"col_heading level0 col7\" >TT (Sec)</th>\n",
       "    </tr>\n",
       "  </thead>\n",
       "  <tbody>\n",
       "    <tr>\n",
       "      <th id=\"T_2c111_level0_row0\" class=\"row_heading level0 row0\" >lightgbm</th>\n",
       "      <td id=\"T_2c111_row0_col0\" class=\"data row0 col0\" >Light Gradient Boosting Machine</td>\n",
       "      <td id=\"T_2c111_row0_col1\" class=\"data row0 col1\" >1.6311</td>\n",
       "      <td id=\"T_2c111_row0_col2\" class=\"data row0 col2\" >3.2104</td>\n",
       "      <td id=\"T_2c111_row0_col3\" class=\"data row0 col3\" >1.7918</td>\n",
       "      <td id=\"T_2c111_row0_col4\" class=\"data row0 col4\" >0.0925</td>\n",
       "      <td id=\"T_2c111_row0_col5\" class=\"data row0 col5\" >0.3240</td>\n",
       "      <td id=\"T_2c111_row0_col6\" class=\"data row0 col6\" >0.4110</td>\n",
       "      <td id=\"T_2c111_row0_col7\" class=\"data row0 col7\" >1.9590</td>\n",
       "    </tr>\n",
       "    <tr>\n",
       "      <th id=\"T_2c111_level0_row1\" class=\"row_heading level0 row1\" >gbr</th>\n",
       "      <td id=\"T_2c111_row1_col0\" class=\"data row1 col0\" >Gradient Boosting Regressor</td>\n",
       "      <td id=\"T_2c111_row1_col1\" class=\"data row1 col1\" >1.6436</td>\n",
       "      <td id=\"T_2c111_row1_col2\" class=\"data row1 col2\" >3.2292</td>\n",
       "      <td id=\"T_2c111_row1_col3\" class=\"data row1 col3\" >1.7970</td>\n",
       "      <td id=\"T_2c111_row1_col4\" class=\"data row1 col4\" >0.0872</td>\n",
       "      <td id=\"T_2c111_row1_col5\" class=\"data row1 col5\" >0.3251</td>\n",
       "      <td id=\"T_2c111_row1_col6\" class=\"data row1 col6\" >0.4144</td>\n",
       "      <td id=\"T_2c111_row1_col7\" class=\"data row1 col7\" >15.5670</td>\n",
       "    </tr>\n",
       "    <tr>\n",
       "      <th id=\"T_2c111_level0_row2\" class=\"row_heading level0 row2\" >lr</th>\n",
       "      <td id=\"T_2c111_row2_col0\" class=\"data row2 col0\" >Linear Regression</td>\n",
       "      <td id=\"T_2c111_row2_col1\" class=\"data row2 col1\" >1.6766</td>\n",
       "      <td id=\"T_2c111_row2_col2\" class=\"data row2 col2\" >3.3097</td>\n",
       "      <td id=\"T_2c111_row2_col3\" class=\"data row2 col3\" >1.8192</td>\n",
       "      <td id=\"T_2c111_row2_col4\" class=\"data row2 col4\" >0.0645</td>\n",
       "      <td id=\"T_2c111_row2_col5\" class=\"data row2 col5\" >0.3290</td>\n",
       "      <td id=\"T_2c111_row2_col6\" class=\"data row2 col6\" >0.4224</td>\n",
       "      <td id=\"T_2c111_row2_col7\" class=\"data row2 col7\" >1.4820</td>\n",
       "    </tr>\n",
       "    <tr>\n",
       "      <th id=\"T_2c111_level0_row3\" class=\"row_heading level0 row3\" >ridge</th>\n",
       "      <td id=\"T_2c111_row3_col0\" class=\"data row3 col0\" >Ridge Regression</td>\n",
       "      <td id=\"T_2c111_row3_col1\" class=\"data row3 col1\" >1.6766</td>\n",
       "      <td id=\"T_2c111_row3_col2\" class=\"data row3 col2\" >3.3097</td>\n",
       "      <td id=\"T_2c111_row3_col3\" class=\"data row3 col3\" >1.8192</td>\n",
       "      <td id=\"T_2c111_row3_col4\" class=\"data row3 col4\" >0.0645</td>\n",
       "      <td id=\"T_2c111_row3_col5\" class=\"data row3 col5\" >0.3290</td>\n",
       "      <td id=\"T_2c111_row3_col6\" class=\"data row3 col6\" >0.4224</td>\n",
       "      <td id=\"T_2c111_row3_col7\" class=\"data row3 col7\" >1.0210</td>\n",
       "    </tr>\n",
       "    <tr>\n",
       "      <th id=\"T_2c111_level0_row4\" class=\"row_heading level0 row4\" >br</th>\n",
       "      <td id=\"T_2c111_row4_col0\" class=\"data row4 col0\" >Bayesian Ridge</td>\n",
       "      <td id=\"T_2c111_row4_col1\" class=\"data row4 col1\" >1.6766</td>\n",
       "      <td id=\"T_2c111_row4_col2\" class=\"data row4 col2\" >3.3096</td>\n",
       "      <td id=\"T_2c111_row4_col3\" class=\"data row4 col3\" >1.8192</td>\n",
       "      <td id=\"T_2c111_row4_col4\" class=\"data row4 col4\" >0.0645</td>\n",
       "      <td id=\"T_2c111_row4_col5\" class=\"data row4 col5\" >0.3290</td>\n",
       "      <td id=\"T_2c111_row4_col6\" class=\"data row4 col6\" >0.4224</td>\n",
       "      <td id=\"T_2c111_row4_col7\" class=\"data row4 col7\" >1.0060</td>\n",
       "    </tr>\n",
       "    <tr>\n",
       "      <th id=\"T_2c111_level0_row5\" class=\"row_heading level0 row5\" >huber</th>\n",
       "      <td id=\"T_2c111_row5_col0\" class=\"data row5 col0\" >Huber Regressor</td>\n",
       "      <td id=\"T_2c111_row5_col1\" class=\"data row5 col1\" >1.6249</td>\n",
       "      <td id=\"T_2c111_row5_col2\" class=\"data row5 col2\" >3.3481</td>\n",
       "      <td id=\"T_2c111_row5_col3\" class=\"data row5 col3\" >1.8298</td>\n",
       "      <td id=\"T_2c111_row5_col4\" class=\"data row5 col4\" >0.0536</td>\n",
       "      <td id=\"T_2c111_row5_col5\" class=\"data row5 col5\" >0.3334</td>\n",
       "      <td id=\"T_2c111_row5_col6\" class=\"data row5 col6\" >0.4223</td>\n",
       "      <td id=\"T_2c111_row5_col7\" class=\"data row5 col7\" >6.7390</td>\n",
       "    </tr>\n",
       "    <tr>\n",
       "      <th id=\"T_2c111_level0_row6\" class=\"row_heading level0 row6\" >en</th>\n",
       "      <td id=\"T_2c111_row6_col0\" class=\"data row6 col0\" >Elastic Net</td>\n",
       "      <td id=\"T_2c111_row6_col1\" class=\"data row6 col1\" >1.7013</td>\n",
       "      <td id=\"T_2c111_row6_col2\" class=\"data row6 col2\" >3.3581</td>\n",
       "      <td id=\"T_2c111_row6_col3\" class=\"data row6 col3\" >1.8325</td>\n",
       "      <td id=\"T_2c111_row6_col4\" class=\"data row6 col4\" >0.0508</td>\n",
       "      <td id=\"T_2c111_row6_col5\" class=\"data row6 col5\" >0.3314</td>\n",
       "      <td id=\"T_2c111_row6_col6\" class=\"data row6 col6\" >0.4288</td>\n",
       "      <td id=\"T_2c111_row6_col7\" class=\"data row6 col7\" >10.9400</td>\n",
       "    </tr>\n",
       "    <tr>\n",
       "      <th id=\"T_2c111_level0_row7\" class=\"row_heading level0 row7\" >lar</th>\n",
       "      <td id=\"T_2c111_row7_col0\" class=\"data row7 col0\" >Least Angle Regression</td>\n",
       "      <td id=\"T_2c111_row7_col1\" class=\"data row7 col1\" >1.6810</td>\n",
       "      <td id=\"T_2c111_row7_col2\" class=\"data row7 col2\" >3.3651</td>\n",
       "      <td id=\"T_2c111_row7_col3\" class=\"data row7 col3\" >1.8342</td>\n",
       "      <td id=\"T_2c111_row7_col4\" class=\"data row7 col4\" >0.0488</td>\n",
       "      <td id=\"T_2c111_row7_col5\" class=\"data row7 col5\" >0.3293</td>\n",
       "      <td id=\"T_2c111_row7_col6\" class=\"data row7 col6\" >0.4229</td>\n",
       "      <td id=\"T_2c111_row7_col7\" class=\"data row7 col7\" >0.5810</td>\n",
       "    </tr>\n",
       "    <tr>\n",
       "      <th id=\"T_2c111_level0_row8\" class=\"row_heading level0 row8\" >llar</th>\n",
       "      <td id=\"T_2c111_row8_col0\" class=\"data row8 col0\" >Lasso Least Angle Regression</td>\n",
       "      <td id=\"T_2c111_row8_col1\" class=\"data row8 col1\" >1.7073</td>\n",
       "      <td id=\"T_2c111_row8_col2\" class=\"data row8 col2\" >3.3657</td>\n",
       "      <td id=\"T_2c111_row8_col3\" class=\"data row8 col3\" >1.8346</td>\n",
       "      <td id=\"T_2c111_row8_col4\" class=\"data row8 col4\" >0.0486</td>\n",
       "      <td id=\"T_2c111_row8_col5\" class=\"data row8 col5\" >0.3318</td>\n",
       "      <td id=\"T_2c111_row8_col6\" class=\"data row8 col6\" >0.4305</td>\n",
       "      <td id=\"T_2c111_row8_col7\" class=\"data row8 col7\" >0.6120</td>\n",
       "    </tr>\n",
       "    <tr>\n",
       "      <th id=\"T_2c111_level0_row9\" class=\"row_heading level0 row9\" >lasso</th>\n",
       "      <td id=\"T_2c111_row9_col0\" class=\"data row9 col0\" >Lasso Regression</td>\n",
       "      <td id=\"T_2c111_row9_col1\" class=\"data row9 col1\" >1.7073</td>\n",
       "      <td id=\"T_2c111_row9_col2\" class=\"data row9 col2\" >3.3657</td>\n",
       "      <td id=\"T_2c111_row9_col3\" class=\"data row9 col3\" >1.8346</td>\n",
       "      <td id=\"T_2c111_row9_col4\" class=\"data row9 col4\" >0.0486</td>\n",
       "      <td id=\"T_2c111_row9_col5\" class=\"data row9 col5\" >0.3318</td>\n",
       "      <td id=\"T_2c111_row9_col6\" class=\"data row9 col6\" >0.4305</td>\n",
       "      <td id=\"T_2c111_row9_col7\" class=\"data row9 col7\" >11.3780</td>\n",
       "    </tr>\n",
       "    <tr>\n",
       "      <th id=\"T_2c111_level0_row10\" class=\"row_heading level0 row10\" >ada</th>\n",
       "      <td id=\"T_2c111_row10_col0\" class=\"data row10 col0\" >AdaBoost Regressor</td>\n",
       "      <td id=\"T_2c111_row10_col1\" class=\"data row10 col1\" >1.7526</td>\n",
       "      <td id=\"T_2c111_row10_col2\" class=\"data row10 col2\" >3.3744</td>\n",
       "      <td id=\"T_2c111_row10_col3\" class=\"data row10 col3\" >1.8369</td>\n",
       "      <td id=\"T_2c111_row10_col4\" class=\"data row10 col4\" >0.0462</td>\n",
       "      <td id=\"T_2c111_row10_col5\" class=\"data row10 col5\" >0.3268</td>\n",
       "      <td id=\"T_2c111_row10_col6\" class=\"data row10 col6\" >0.4212</td>\n",
       "      <td id=\"T_2c111_row10_col7\" class=\"data row10 col7\" >4.7630</td>\n",
       "    </tr>\n",
       "    <tr>\n",
       "      <th id=\"T_2c111_level0_row11\" class=\"row_heading level0 row11\" >omp</th>\n",
       "      <td id=\"T_2c111_row11_col0\" class=\"data row11 col0\" >Orthogonal Matching Pursuit</td>\n",
       "      <td id=\"T_2c111_row11_col1\" class=\"data row11 col1\" >1.7168</td>\n",
       "      <td id=\"T_2c111_row11_col2\" class=\"data row11 col2\" >3.4003</td>\n",
       "      <td id=\"T_2c111_row11_col3\" class=\"data row11 col3\" >1.8440</td>\n",
       "      <td id=\"T_2c111_row11_col4\" class=\"data row11 col4\" >0.0389</td>\n",
       "      <td id=\"T_2c111_row11_col5\" class=\"data row11 col5\" >0.3333</td>\n",
       "      <td id=\"T_2c111_row11_col6\" class=\"data row11 col6\" >0.4328</td>\n",
       "      <td id=\"T_2c111_row11_col7\" class=\"data row11 col7\" >0.5870</td>\n",
       "    </tr>\n",
       "    <tr>\n",
       "      <th id=\"T_2c111_level0_row12\" class=\"row_heading level0 row12\" >rf</th>\n",
       "      <td id=\"T_2c111_row12_col0\" class=\"data row12 col0\" >Random Forest Regressor</td>\n",
       "      <td id=\"T_2c111_row12_col1\" class=\"data row12 col1\" >1.6376</td>\n",
       "      <td id=\"T_2c111_row12_col2\" class=\"data row12 col2\" >3.4048</td>\n",
       "      <td id=\"T_2c111_row12_col3\" class=\"data row12 col3\" >1.8452</td>\n",
       "      <td id=\"T_2c111_row12_col4\" class=\"data row12 col4\" >0.0376</td>\n",
       "      <td id=\"T_2c111_row12_col5\" class=\"data row12 col5\" >0.3324</td>\n",
       "      <td id=\"T_2c111_row12_col6\" class=\"data row12 col6\" >0.4120</td>\n",
       "      <td id=\"T_2c111_row12_col7\" class=\"data row12 col7\" >45.4780</td>\n",
       "    </tr>\n",
       "    <tr>\n",
       "      <th id=\"T_2c111_level0_row13\" class=\"row_heading level0 row13\" >et</th>\n",
       "      <td id=\"T_2c111_row13_col0\" class=\"data row13 col0\" >Extra Trees Regressor</td>\n",
       "      <td id=\"T_2c111_row13_col1\" class=\"data row13 col1\" >1.6413</td>\n",
       "      <td id=\"T_2c111_row13_col2\" class=\"data row13 col2\" >3.5240</td>\n",
       "      <td id=\"T_2c111_row13_col3\" class=\"data row13 col3\" >1.8772</td>\n",
       "      <td id=\"T_2c111_row13_col4\" class=\"data row13 col4\" >0.0039</td>\n",
       "      <td id=\"T_2c111_row13_col5\" class=\"data row13 col5\" >0.3382</td>\n",
       "      <td id=\"T_2c111_row13_col6\" class=\"data row13 col6\" >0.4128</td>\n",
       "      <td id=\"T_2c111_row13_col7\" class=\"data row13 col7\" >52.4050</td>\n",
       "    </tr>\n",
       "    <tr>\n",
       "      <th id=\"T_2c111_level0_row14\" class=\"row_heading level0 row14\" >dummy</th>\n",
       "      <td id=\"T_2c111_row14_col0\" class=\"data row14 col0\" >Dummy Regressor</td>\n",
       "      <td id=\"T_2c111_row14_col1\" class=\"data row14 col1\" >1.7831</td>\n",
       "      <td id=\"T_2c111_row14_col2\" class=\"data row14 col2\" >3.5379</td>\n",
       "      <td id=\"T_2c111_row14_col3\" class=\"data row14 col3\" >1.8809</td>\n",
       "      <td id=\"T_2c111_row14_col4\" class=\"data row14 col4\" >-0.0000</td>\n",
       "      <td id=\"T_2c111_row14_col5\" class=\"data row14 col5\" >0.3400</td>\n",
       "      <td id=\"T_2c111_row14_col6\" class=\"data row14 col6\" >0.4495</td>\n",
       "      <td id=\"T_2c111_row14_col7\" class=\"data row14 col7\" >0.6530</td>\n",
       "    </tr>\n",
       "    <tr>\n",
       "      <th id=\"T_2c111_level0_row15\" class=\"row_heading level0 row15\" >dt</th>\n",
       "      <td id=\"T_2c111_row15_col0\" class=\"data row15 col0\" >Decision Tree Regressor</td>\n",
       "      <td id=\"T_2c111_row15_col1\" class=\"data row15 col1\" >1.6565</td>\n",
       "      <td id=\"T_2c111_row15_col2\" class=\"data row15 col2\" >3.8182</td>\n",
       "      <td id=\"T_2c111_row15_col3\" class=\"data row15 col3\" >1.9540</td>\n",
       "      <td id=\"T_2c111_row15_col4\" class=\"data row15 col4\" >-0.0793</td>\n",
       "      <td id=\"T_2c111_row15_col5\" class=\"data row15 col5\" >0.3525</td>\n",
       "      <td id=\"T_2c111_row15_col6\" class=\"data row15 col6\" >0.4163</td>\n",
       "      <td id=\"T_2c111_row15_col7\" class=\"data row15 col7\" >1.1620</td>\n",
       "    </tr>\n",
       "    <tr>\n",
       "      <th id=\"T_2c111_level0_row16\" class=\"row_heading level0 row16\" >par</th>\n",
       "      <td id=\"T_2c111_row16_col0\" class=\"data row16 col0\" >Passive Aggressive Regressor</td>\n",
       "      <td id=\"T_2c111_row16_col1\" class=\"data row16 col1\" >2.8288</td>\n",
       "      <td id=\"T_2c111_row16_col2\" class=\"data row16 col2\" >12.9081</td>\n",
       "      <td id=\"T_2c111_row16_col3\" class=\"data row16 col3\" >3.5255</td>\n",
       "      <td id=\"T_2c111_row16_col4\" class=\"data row16 col4\" >-2.6496</td>\n",
       "      <td id=\"T_2c111_row16_col5\" class=\"data row16 col5\" >0.5237</td>\n",
       "      <td id=\"T_2c111_row16_col6\" class=\"data row16 col6\" >0.7746</td>\n",
       "      <td id=\"T_2c111_row16_col7\" class=\"data row16 col7\" >0.8320</td>\n",
       "    </tr>\n",
       "  </tbody>\n",
       "</table>\n"
      ],
      "text/plain": [
       "<pandas.io.formats.style.Styler at 0x19afe620a50>"
      ]
     },
     "metadata": {},
     "output_type": "display_data"
    },
    {
     "data": {
      "text/html": [],
      "text/plain": [
       "<IPython.core.display.HTML object>"
      ]
     },
     "metadata": {},
     "output_type": "display_data"
    },
    {
     "data": {
      "text/html": [
       "<style>#sk-container-id-1 {color: black;background-color: white;}#sk-container-id-1 pre{padding: 0;}#sk-container-id-1 div.sk-toggleable {background-color: white;}#sk-container-id-1 label.sk-toggleable__label {cursor: pointer;display: block;width: 100%;margin-bottom: 0;padding: 0.3em;box-sizing: border-box;text-align: center;}#sk-container-id-1 label.sk-toggleable__label-arrow:before {content: \"▸\";float: left;margin-right: 0.25em;color: #696969;}#sk-container-id-1 label.sk-toggleable__label-arrow:hover:before {color: black;}#sk-container-id-1 div.sk-estimator:hover label.sk-toggleable__label-arrow:before {color: black;}#sk-container-id-1 div.sk-toggleable__content {max-height: 0;max-width: 0;overflow: hidden;text-align: left;background-color: #f0f8ff;}#sk-container-id-1 div.sk-toggleable__content pre {margin: 0.2em;color: black;border-radius: 0.25em;background-color: #f0f8ff;}#sk-container-id-1 input.sk-toggleable__control:checked~div.sk-toggleable__content {max-height: 200px;max-width: 100%;overflow: auto;}#sk-container-id-1 input.sk-toggleable__control:checked~label.sk-toggleable__label-arrow:before {content: \"▾\";}#sk-container-id-1 div.sk-estimator input.sk-toggleable__control:checked~label.sk-toggleable__label {background-color: #d4ebff;}#sk-container-id-1 div.sk-label input.sk-toggleable__control:checked~label.sk-toggleable__label {background-color: #d4ebff;}#sk-container-id-1 input.sk-hidden--visually {border: 0;clip: rect(1px 1px 1px 1px);clip: rect(1px, 1px, 1px, 1px);height: 1px;margin: -1px;overflow: hidden;padding: 0;position: absolute;width: 1px;}#sk-container-id-1 div.sk-estimator {font-family: monospace;background-color: #f0f8ff;border: 1px dotted black;border-radius: 0.25em;box-sizing: border-box;margin-bottom: 0.5em;}#sk-container-id-1 div.sk-estimator:hover {background-color: #d4ebff;}#sk-container-id-1 div.sk-parallel-item::after {content: \"\";width: 100%;border-bottom: 1px solid gray;flex-grow: 1;}#sk-container-id-1 div.sk-label:hover label.sk-toggleable__label {background-color: #d4ebff;}#sk-container-id-1 div.sk-serial::before {content: \"\";position: absolute;border-left: 1px solid gray;box-sizing: border-box;top: 0;bottom: 0;left: 50%;z-index: 0;}#sk-container-id-1 div.sk-serial {display: flex;flex-direction: column;align-items: center;background-color: white;padding-right: 0.2em;padding-left: 0.2em;position: relative;}#sk-container-id-1 div.sk-item {position: relative;z-index: 1;}#sk-container-id-1 div.sk-parallel {display: flex;align-items: stretch;justify-content: center;background-color: white;position: relative;}#sk-container-id-1 div.sk-item::before, #sk-container-id-1 div.sk-parallel-item::before {content: \"\";position: absolute;border-left: 1px solid gray;box-sizing: border-box;top: 0;bottom: 0;left: 50%;z-index: -1;}#sk-container-id-1 div.sk-parallel-item {display: flex;flex-direction: column;z-index: 1;position: relative;background-color: white;}#sk-container-id-1 div.sk-parallel-item:first-child::after {align-self: flex-end;width: 50%;}#sk-container-id-1 div.sk-parallel-item:last-child::after {align-self: flex-start;width: 50%;}#sk-container-id-1 div.sk-parallel-item:only-child::after {width: 0;}#sk-container-id-1 div.sk-dashed-wrapped {border: 1px dashed gray;margin: 0 0.4em 0.5em 0.4em;box-sizing: border-box;padding-bottom: 0.4em;background-color: white;}#sk-container-id-1 div.sk-label label {font-family: monospace;font-weight: bold;display: inline-block;line-height: 1.2em;}#sk-container-id-1 div.sk-label-container {text-align: center;}#sk-container-id-1 div.sk-container {/* jupyter's `normalize.less` sets `[hidden] { display: none; }` but bootstrap.min.css set `[hidden] { display: none !important; }` so we also need the `!important` here to be able to override the default hidden behavior on the sphinx rendered scikit-learn.org. See: https://github.com/scikit-learn/scikit-learn/issues/21755 */display: inline-block !important;position: relative;}#sk-container-id-1 div.sk-text-repr-fallback {display: none;}</style><div id=\"sk-container-id-1\" class=\"sk-top-container\"><div class=\"sk-text-repr-fallback\"><pre>LGBMRegressor(n_jobs=-1, random_state=123)</pre><b>In a Jupyter environment, please rerun this cell to show the HTML representation or trust the notebook. <br />On GitHub, the HTML representation is unable to render, please try loading this page with nbviewer.org.</b></div><div class=\"sk-container\" hidden><div class=\"sk-item\"><div class=\"sk-estimator sk-toggleable\"><input class=\"sk-toggleable__control sk-hidden--visually\" id=\"sk-estimator-id-1\" type=\"checkbox\" checked><label for=\"sk-estimator-id-1\" class=\"sk-toggleable__label sk-toggleable__label-arrow\">LGBMRegressor</label><div class=\"sk-toggleable__content\"><pre>LGBMRegressor(n_jobs=-1, random_state=123)</pre></div></div></div></div></div>"
      ],
      "text/plain": [
       "LGBMRegressor(n_jobs=-1, random_state=123)"
      ]
     },
     "execution_count": 4,
     "metadata": {},
     "output_type": "execute_result"
    }
   ],
   "source": [
    "# compare_models()"
   ]
  },
  {
   "cell_type": "code",
   "execution_count": null,
   "metadata": {},
   "outputs": [
    {
     "data": {
      "text/html": [],
      "text/plain": [
       "<IPython.core.display.HTML object>"
      ]
     },
     "metadata": {},
     "output_type": "display_data"
    },
    {
     "data": {
      "text/html": [
       "<style type=\"text/css\">\n",
       "#T_32ffe_row10_col0, #T_32ffe_row10_col1, #T_32ffe_row10_col2, #T_32ffe_row10_col3, #T_32ffe_row10_col4, #T_32ffe_row10_col5 {\n",
       "  background: yellow;\n",
       "}\n",
       "</style>\n",
       "<table id=\"T_32ffe\">\n",
       "  <thead>\n",
       "    <tr>\n",
       "      <th class=\"blank level0\" >&nbsp;</th>\n",
       "      <th id=\"T_32ffe_level0_col0\" class=\"col_heading level0 col0\" >MAE</th>\n",
       "      <th id=\"T_32ffe_level0_col1\" class=\"col_heading level0 col1\" >MSE</th>\n",
       "      <th id=\"T_32ffe_level0_col2\" class=\"col_heading level0 col2\" >RMSE</th>\n",
       "      <th id=\"T_32ffe_level0_col3\" class=\"col_heading level0 col3\" >R2</th>\n",
       "      <th id=\"T_32ffe_level0_col4\" class=\"col_heading level0 col4\" >RMSLE</th>\n",
       "      <th id=\"T_32ffe_level0_col5\" class=\"col_heading level0 col5\" >MAPE</th>\n",
       "    </tr>\n",
       "    <tr>\n",
       "      <th class=\"index_name level0\" >Fold</th>\n",
       "      <th class=\"blank col0\" >&nbsp;</th>\n",
       "      <th class=\"blank col1\" >&nbsp;</th>\n",
       "      <th class=\"blank col2\" >&nbsp;</th>\n",
       "      <th class=\"blank col3\" >&nbsp;</th>\n",
       "      <th class=\"blank col4\" >&nbsp;</th>\n",
       "      <th class=\"blank col5\" >&nbsp;</th>\n",
       "    </tr>\n",
       "  </thead>\n",
       "  <tbody>\n",
       "    <tr>\n",
       "      <th id=\"T_32ffe_level0_row0\" class=\"row_heading level0 row0\" >0</th>\n",
       "      <td id=\"T_32ffe_row0_col0\" class=\"data row0 col0\" >1.6331</td>\n",
       "      <td id=\"T_32ffe_row0_col1\" class=\"data row0 col1\" >3.2149</td>\n",
       "      <td id=\"T_32ffe_row0_col2\" class=\"data row0 col2\" >1.7930</td>\n",
       "      <td id=\"T_32ffe_row0_col3\" class=\"data row0 col3\" >0.0938</td>\n",
       "      <td id=\"T_32ffe_row0_col4\" class=\"data row0 col4\" >0.3244</td>\n",
       "      <td id=\"T_32ffe_row0_col5\" class=\"data row0 col5\" >0.4121</td>\n",
       "    </tr>\n",
       "    <tr>\n",
       "      <th id=\"T_32ffe_level0_row1\" class=\"row_heading level0 row1\" >1</th>\n",
       "      <td id=\"T_32ffe_row1_col0\" class=\"data row1 col0\" >1.6314</td>\n",
       "      <td id=\"T_32ffe_row1_col1\" class=\"data row1 col1\" >3.2138</td>\n",
       "      <td id=\"T_32ffe_row1_col2\" class=\"data row1 col2\" >1.7927</td>\n",
       "      <td id=\"T_32ffe_row1_col3\" class=\"data row1 col3\" >0.0934</td>\n",
       "      <td id=\"T_32ffe_row1_col4\" class=\"data row1 col4\" >0.3248</td>\n",
       "      <td id=\"T_32ffe_row1_col5\" class=\"data row1 col5\" >0.4128</td>\n",
       "    </tr>\n",
       "    <tr>\n",
       "      <th id=\"T_32ffe_level0_row2\" class=\"row_heading level0 row2\" >2</th>\n",
       "      <td id=\"T_32ffe_row2_col0\" class=\"data row2 col0\" >1.6307</td>\n",
       "      <td id=\"T_32ffe_row2_col1\" class=\"data row2 col1\" >3.2140</td>\n",
       "      <td id=\"T_32ffe_row2_col2\" class=\"data row2 col2\" >1.7928</td>\n",
       "      <td id=\"T_32ffe_row2_col3\" class=\"data row2 col3\" >0.0904</td>\n",
       "      <td id=\"T_32ffe_row2_col4\" class=\"data row2 col4\" >0.3244</td>\n",
       "      <td id=\"T_32ffe_row2_col5\" class=\"data row2 col5\" >0.4116</td>\n",
       "    </tr>\n",
       "    <tr>\n",
       "      <th id=\"T_32ffe_level0_row3\" class=\"row_heading level0 row3\" >3</th>\n",
       "      <td id=\"T_32ffe_row3_col0\" class=\"data row3 col0\" >1.6320</td>\n",
       "      <td id=\"T_32ffe_row3_col1\" class=\"data row3 col1\" >3.2102</td>\n",
       "      <td id=\"T_32ffe_row3_col2\" class=\"data row3 col2\" >1.7917</td>\n",
       "      <td id=\"T_32ffe_row3_col3\" class=\"data row3 col3\" >0.0958</td>\n",
       "      <td id=\"T_32ffe_row3_col4\" class=\"data row3 col4\" >0.3243</td>\n",
       "      <td id=\"T_32ffe_row3_col5\" class=\"data row3 col5\" >0.4122</td>\n",
       "    </tr>\n",
       "    <tr>\n",
       "      <th id=\"T_32ffe_level0_row4\" class=\"row_heading level0 row4\" >4</th>\n",
       "      <td id=\"T_32ffe_row4_col0\" class=\"data row4 col0\" >1.6315</td>\n",
       "      <td id=\"T_32ffe_row4_col1\" class=\"data row4 col1\" >3.2131</td>\n",
       "      <td id=\"T_32ffe_row4_col2\" class=\"data row4 col2\" >1.7925</td>\n",
       "      <td id=\"T_32ffe_row4_col3\" class=\"data row4 col3\" >0.0954</td>\n",
       "      <td id=\"T_32ffe_row4_col4\" class=\"data row4 col4\" >0.3246</td>\n",
       "      <td id=\"T_32ffe_row4_col5\" class=\"data row4 col5\" >0.4124</td>\n",
       "    </tr>\n",
       "    <tr>\n",
       "      <th id=\"T_32ffe_level0_row5\" class=\"row_heading level0 row5\" >5</th>\n",
       "      <td id=\"T_32ffe_row5_col0\" class=\"data row5 col0\" >1.6321</td>\n",
       "      <td id=\"T_32ffe_row5_col1\" class=\"data row5 col1\" >3.2152</td>\n",
       "      <td id=\"T_32ffe_row5_col2\" class=\"data row5 col2\" >1.7931</td>\n",
       "      <td id=\"T_32ffe_row5_col3\" class=\"data row5 col3\" >0.0898</td>\n",
       "      <td id=\"T_32ffe_row5_col4\" class=\"data row5 col4\" >0.3242</td>\n",
       "      <td id=\"T_32ffe_row5_col5\" class=\"data row5 col5\" >0.4112</td>\n",
       "    </tr>\n",
       "    <tr>\n",
       "      <th id=\"T_32ffe_level0_row6\" class=\"row_heading level0 row6\" >6</th>\n",
       "      <td id=\"T_32ffe_row6_col0\" class=\"data row6 col0\" >1.6292</td>\n",
       "      <td id=\"T_32ffe_row6_col1\" class=\"data row6 col1\" >3.2013</td>\n",
       "      <td id=\"T_32ffe_row6_col2\" class=\"data row6 col2\" >1.7892</td>\n",
       "      <td id=\"T_32ffe_row6_col3\" class=\"data row6 col3\" >0.0905</td>\n",
       "      <td id=\"T_32ffe_row6_col4\" class=\"data row6 col4\" >0.3228</td>\n",
       "      <td id=\"T_32ffe_row6_col5\" class=\"data row6 col5\" >0.4084</td>\n",
       "    </tr>\n",
       "    <tr>\n",
       "      <th id=\"T_32ffe_level0_row7\" class=\"row_heading level0 row7\" >7</th>\n",
       "      <td id=\"T_32ffe_row7_col0\" class=\"data row7 col0\" >1.6291</td>\n",
       "      <td id=\"T_32ffe_row7_col1\" class=\"data row7 col1\" >3.2120</td>\n",
       "      <td id=\"T_32ffe_row7_col2\" class=\"data row7 col2\" >1.7922</td>\n",
       "      <td id=\"T_32ffe_row7_col3\" class=\"data row7 col3\" >0.0895</td>\n",
       "      <td id=\"T_32ffe_row7_col4\" class=\"data row7 col4\" >0.3242</td>\n",
       "      <td id=\"T_32ffe_row7_col5\" class=\"data row7 col5\" >0.4111</td>\n",
       "    </tr>\n",
       "    <tr>\n",
       "      <th id=\"T_32ffe_level0_row8\" class=\"row_heading level0 row8\" >8</th>\n",
       "      <td id=\"T_32ffe_row8_col0\" class=\"data row8 col0\" >1.6314</td>\n",
       "      <td id=\"T_32ffe_row8_col1\" class=\"data row8 col1\" >3.2099</td>\n",
       "      <td id=\"T_32ffe_row8_col2\" class=\"data row8 col2\" >1.7916</td>\n",
       "      <td id=\"T_32ffe_row8_col3\" class=\"data row8 col3\" >0.0946</td>\n",
       "      <td id=\"T_32ffe_row8_col4\" class=\"data row8 col4\" >0.3239</td>\n",
       "      <td id=\"T_32ffe_row8_col5\" class=\"data row8 col5\" >0.4110</td>\n",
       "    </tr>\n",
       "    <tr>\n",
       "      <th id=\"T_32ffe_level0_row9\" class=\"row_heading level0 row9\" >9</th>\n",
       "      <td id=\"T_32ffe_row9_col0\" class=\"data row9 col0\" >1.6301</td>\n",
       "      <td id=\"T_32ffe_row9_col1\" class=\"data row9 col1\" >3.1997</td>\n",
       "      <td id=\"T_32ffe_row9_col2\" class=\"data row9 col2\" >1.7888</td>\n",
       "      <td id=\"T_32ffe_row9_col3\" class=\"data row9 col3\" >0.0922</td>\n",
       "      <td id=\"T_32ffe_row9_col4\" class=\"data row9 col4\" >0.3225</td>\n",
       "      <td id=\"T_32ffe_row9_col5\" class=\"data row9 col5\" >0.4076</td>\n",
       "    </tr>\n",
       "    <tr>\n",
       "      <th id=\"T_32ffe_level0_row10\" class=\"row_heading level0 row10\" >Mean</th>\n",
       "      <td id=\"T_32ffe_row10_col0\" class=\"data row10 col0\" >1.6311</td>\n",
       "      <td id=\"T_32ffe_row10_col1\" class=\"data row10 col1\" >3.2104</td>\n",
       "      <td id=\"T_32ffe_row10_col2\" class=\"data row10 col2\" >1.7918</td>\n",
       "      <td id=\"T_32ffe_row10_col3\" class=\"data row10 col3\" >0.0925</td>\n",
       "      <td id=\"T_32ffe_row10_col4\" class=\"data row10 col4\" >0.3240</td>\n",
       "      <td id=\"T_32ffe_row10_col5\" class=\"data row10 col5\" >0.4110</td>\n",
       "    </tr>\n",
       "    <tr>\n",
       "      <th id=\"T_32ffe_level0_row11\" class=\"row_heading level0 row11\" >Std</th>\n",
       "      <td id=\"T_32ffe_row11_col0\" class=\"data row11 col0\" >0.0012</td>\n",
       "      <td id=\"T_32ffe_row11_col1\" class=\"data row11 col1\" >0.0053</td>\n",
       "      <td id=\"T_32ffe_row11_col2\" class=\"data row11 col2\" >0.0015</td>\n",
       "      <td id=\"T_32ffe_row11_col3\" class=\"data row11 col3\" >0.0023</td>\n",
       "      <td id=\"T_32ffe_row11_col4\" class=\"data row11 col4\" >0.0007</td>\n",
       "      <td id=\"T_32ffe_row11_col5\" class=\"data row11 col5\" >0.0017</td>\n",
       "    </tr>\n",
       "  </tbody>\n",
       "</table>\n"
      ],
      "text/plain": [
       "<pandas.io.formats.style.Styler at 0x23d0277ccd0>"
      ]
     },
     "metadata": {},
     "output_type": "display_data"
    },
    {
     "data": {
      "application/vnd.jupyter.widget-view+json": {
       "model_id": "6c03e33c818c4f4f907ba5c87a87c164",
       "version_major": 2,
       "version_minor": 0
      },
      "text/plain": [
       "Processing:   0%|          | 0/4 [00:00<?, ?it/s]"
      ]
     },
     "metadata": {},
     "output_type": "display_data"
    }
   ],
   "source": [
    "best_model = create_model('lightgbm')"
   ]
  },
  {
   "cell_type": "code",
   "execution_count": null,
   "metadata": {},
   "outputs": [
    {
     "data": {
      "text/html": [],
      "text/plain": [
       "<IPython.core.display.HTML object>"
      ]
     },
     "metadata": {},
     "output_type": "display_data"
    },
    {
     "data": {
      "text/html": [
       "<style type=\"text/css\">\n",
       "#T_f9168_row10_col0, #T_f9168_row10_col1, #T_f9168_row10_col2, #T_f9168_row10_col3, #T_f9168_row10_col4, #T_f9168_row10_col5 {\n",
       "  background: yellow;\n",
       "}\n",
       "</style>\n",
       "<table id=\"T_f9168\">\n",
       "  <thead>\n",
       "    <tr>\n",
       "      <th class=\"blank level0\" >&nbsp;</th>\n",
       "      <th id=\"T_f9168_level0_col0\" class=\"col_heading level0 col0\" >MAE</th>\n",
       "      <th id=\"T_f9168_level0_col1\" class=\"col_heading level0 col1\" >MSE</th>\n",
       "      <th id=\"T_f9168_level0_col2\" class=\"col_heading level0 col2\" >RMSE</th>\n",
       "      <th id=\"T_f9168_level0_col3\" class=\"col_heading level0 col3\" >R2</th>\n",
       "      <th id=\"T_f9168_level0_col4\" class=\"col_heading level0 col4\" >RMSLE</th>\n",
       "      <th id=\"T_f9168_level0_col5\" class=\"col_heading level0 col5\" >MAPE</th>\n",
       "    </tr>\n",
       "    <tr>\n",
       "      <th class=\"index_name level0\" >Fold</th>\n",
       "      <th class=\"blank col0\" >&nbsp;</th>\n",
       "      <th class=\"blank col1\" >&nbsp;</th>\n",
       "      <th class=\"blank col2\" >&nbsp;</th>\n",
       "      <th class=\"blank col3\" >&nbsp;</th>\n",
       "      <th class=\"blank col4\" >&nbsp;</th>\n",
       "      <th class=\"blank col5\" >&nbsp;</th>\n",
       "    </tr>\n",
       "  </thead>\n",
       "  <tbody>\n",
       "    <tr>\n",
       "      <th id=\"T_f9168_level0_row0\" class=\"row_heading level0 row0\" >0</th>\n",
       "      <td id=\"T_f9168_row0_col0\" class=\"data row0 col0\" >1.6319</td>\n",
       "      <td id=\"T_f9168_row0_col1\" class=\"data row0 col1\" >3.2133</td>\n",
       "      <td id=\"T_f9168_row0_col2\" class=\"data row0 col2\" >1.7926</td>\n",
       "      <td id=\"T_f9168_row0_col3\" class=\"data row0 col3\" >0.0943</td>\n",
       "      <td id=\"T_f9168_row0_col4\" class=\"data row0 col4\" >0.3243</td>\n",
       "      <td id=\"T_f9168_row0_col5\" class=\"data row0 col5\" >0.4116</td>\n",
       "    </tr>\n",
       "    <tr>\n",
       "      <th id=\"T_f9168_level0_row1\" class=\"row_heading level0 row1\" >1</th>\n",
       "      <td id=\"T_f9168_row1_col0\" class=\"data row1 col0\" >1.6305</td>\n",
       "      <td id=\"T_f9168_row1_col1\" class=\"data row1 col1\" >3.2127</td>\n",
       "      <td id=\"T_f9168_row1_col2\" class=\"data row1 col2\" >1.7924</td>\n",
       "      <td id=\"T_f9168_row1_col3\" class=\"data row1 col3\" >0.0937</td>\n",
       "      <td id=\"T_f9168_row1_col4\" class=\"data row1 col4\" >0.3247</td>\n",
       "      <td id=\"T_f9168_row1_col5\" class=\"data row1 col5\" >0.4124</td>\n",
       "    </tr>\n",
       "    <tr>\n",
       "      <th id=\"T_f9168_level0_row2\" class=\"row_heading level0 row2\" >2</th>\n",
       "      <td id=\"T_f9168_row2_col0\" class=\"data row2 col0\" >1.6300</td>\n",
       "      <td id=\"T_f9168_row2_col1\" class=\"data row2 col1\" >3.2132</td>\n",
       "      <td id=\"T_f9168_row2_col2\" class=\"data row2 col2\" >1.7925</td>\n",
       "      <td id=\"T_f9168_row2_col3\" class=\"data row2 col3\" >0.0906</td>\n",
       "      <td id=\"T_f9168_row2_col4\" class=\"data row2 col4\" >0.3243</td>\n",
       "      <td id=\"T_f9168_row2_col5\" class=\"data row2 col5\" >0.4112</td>\n",
       "    </tr>\n",
       "    <tr>\n",
       "      <th id=\"T_f9168_level0_row3\" class=\"row_heading level0 row3\" >3</th>\n",
       "      <td id=\"T_f9168_row3_col0\" class=\"data row3 col0\" >1.6308</td>\n",
       "      <td id=\"T_f9168_row3_col1\" class=\"data row3 col1\" >3.2078</td>\n",
       "      <td id=\"T_f9168_row3_col2\" class=\"data row3 col2\" >1.7910</td>\n",
       "      <td id=\"T_f9168_row3_col3\" class=\"data row3 col3\" >0.0965</td>\n",
       "      <td id=\"T_f9168_row3_col4\" class=\"data row3 col4\" >0.3241</td>\n",
       "      <td id=\"T_f9168_row3_col5\" class=\"data row3 col5\" >0.4118</td>\n",
       "    </tr>\n",
       "    <tr>\n",
       "      <th id=\"T_f9168_level0_row4\" class=\"row_heading level0 row4\" >4</th>\n",
       "      <td id=\"T_f9168_row4_col0\" class=\"data row4 col0\" >1.6313</td>\n",
       "      <td id=\"T_f9168_row4_col1\" class=\"data row4 col1\" >3.2138</td>\n",
       "      <td id=\"T_f9168_row4_col2\" class=\"data row4 col2\" >1.7927</td>\n",
       "      <td id=\"T_f9168_row4_col3\" class=\"data row4 col3\" >0.0952</td>\n",
       "      <td id=\"T_f9168_row4_col4\" class=\"data row4 col4\" >0.3246</td>\n",
       "      <td id=\"T_f9168_row4_col5\" class=\"data row4 col5\" >0.4123</td>\n",
       "    </tr>\n",
       "    <tr>\n",
       "      <th id=\"T_f9168_level0_row5\" class=\"row_heading level0 row5\" >5</th>\n",
       "      <td id=\"T_f9168_row5_col0\" class=\"data row5 col0\" >1.6309</td>\n",
       "      <td id=\"T_f9168_row5_col1\" class=\"data row5 col1\" >3.2140</td>\n",
       "      <td id=\"T_f9168_row5_col2\" class=\"data row5 col2\" >1.7928</td>\n",
       "      <td id=\"T_f9168_row5_col3\" class=\"data row5 col3\" >0.0902</td>\n",
       "      <td id=\"T_f9168_row5_col4\" class=\"data row5 col4\" >0.3241</td>\n",
       "      <td id=\"T_f9168_row5_col5\" class=\"data row5 col5\" >0.4107</td>\n",
       "    </tr>\n",
       "    <tr>\n",
       "      <th id=\"T_f9168_level0_row6\" class=\"row_heading level0 row6\" >6</th>\n",
       "      <td id=\"T_f9168_row6_col0\" class=\"data row6 col0\" >1.6275</td>\n",
       "      <td id=\"T_f9168_row6_col1\" class=\"data row6 col1\" >3.1993</td>\n",
       "      <td id=\"T_f9168_row6_col2\" class=\"data row6 col2\" >1.7887</td>\n",
       "      <td id=\"T_f9168_row6_col3\" class=\"data row6 col3\" >0.0911</td>\n",
       "      <td id=\"T_f9168_row6_col4\" class=\"data row6 col4\" >0.3227</td>\n",
       "      <td id=\"T_f9168_row6_col5\" class=\"data row6 col5\" >0.4079</td>\n",
       "    </tr>\n",
       "    <tr>\n",
       "      <th id=\"T_f9168_level0_row7\" class=\"row_heading level0 row7\" >7</th>\n",
       "      <td id=\"T_f9168_row7_col0\" class=\"data row7 col0\" >1.6275</td>\n",
       "      <td id=\"T_f9168_row7_col1\" class=\"data row7 col1\" >3.2095</td>\n",
       "      <td id=\"T_f9168_row7_col2\" class=\"data row7 col2\" >1.7915</td>\n",
       "      <td id=\"T_f9168_row7_col3\" class=\"data row7 col3\" >0.0902</td>\n",
       "      <td id=\"T_f9168_row7_col4\" class=\"data row7 col4\" >0.3241</td>\n",
       "      <td id=\"T_f9168_row7_col5\" class=\"data row7 col5\" >0.4105</td>\n",
       "    </tr>\n",
       "    <tr>\n",
       "      <th id=\"T_f9168_level0_row8\" class=\"row_heading level0 row8\" >8</th>\n",
       "      <td id=\"T_f9168_row8_col0\" class=\"data row8 col0\" >1.6303</td>\n",
       "      <td id=\"T_f9168_row8_col1\" class=\"data row8 col1\" >3.2091</td>\n",
       "      <td id=\"T_f9168_row8_col2\" class=\"data row8 col2\" >1.7914</td>\n",
       "      <td id=\"T_f9168_row8_col3\" class=\"data row8 col3\" >0.0948</td>\n",
       "      <td id=\"T_f9168_row8_col4\" class=\"data row8 col4\" >0.3238</td>\n",
       "      <td id=\"T_f9168_row8_col5\" class=\"data row8 col5\" >0.4106</td>\n",
       "    </tr>\n",
       "    <tr>\n",
       "      <th id=\"T_f9168_level0_row9\" class=\"row_heading level0 row9\" >9</th>\n",
       "      <td id=\"T_f9168_row9_col0\" class=\"data row9 col0\" >1.6294</td>\n",
       "      <td id=\"T_f9168_row9_col1\" class=\"data row9 col1\" >3.2004</td>\n",
       "      <td id=\"T_f9168_row9_col2\" class=\"data row9 col2\" >1.7890</td>\n",
       "      <td id=\"T_f9168_row9_col3\" class=\"data row9 col3\" >0.0920</td>\n",
       "      <td id=\"T_f9168_row9_col4\" class=\"data row9 col4\" >0.3225</td>\n",
       "      <td id=\"T_f9168_row9_col5\" class=\"data row9 col5\" >0.4073</td>\n",
       "    </tr>\n",
       "    <tr>\n",
       "      <th id=\"T_f9168_level0_row10\" class=\"row_heading level0 row10\" >Mean</th>\n",
       "      <td id=\"T_f9168_row10_col0\" class=\"data row10 col0\" >1.6300</td>\n",
       "      <td id=\"T_f9168_row10_col1\" class=\"data row10 col1\" >3.2093</td>\n",
       "      <td id=\"T_f9168_row10_col2\" class=\"data row10 col2\" >1.7915</td>\n",
       "      <td id=\"T_f9168_row10_col3\" class=\"data row10 col3\" >0.0929</td>\n",
       "      <td id=\"T_f9168_row10_col4\" class=\"data row10 col4\" >0.3239</td>\n",
       "      <td id=\"T_f9168_row10_col5\" class=\"data row10 col5\" >0.4106</td>\n",
       "    </tr>\n",
       "    <tr>\n",
       "      <th id=\"T_f9168_level0_row11\" class=\"row_heading level0 row11\" >Std</th>\n",
       "      <td id=\"T_f9168_row11_col0\" class=\"data row11 col0\" >0.0014</td>\n",
       "      <td id=\"T_f9168_row11_col1\" class=\"data row11 col1\" >0.0052</td>\n",
       "      <td id=\"T_f9168_row11_col2\" class=\"data row11 col2\" >0.0014</td>\n",
       "      <td id=\"T_f9168_row11_col3\" class=\"data row11 col3\" >0.0022</td>\n",
       "      <td id=\"T_f9168_row11_col4\" class=\"data row11 col4\" >0.0007</td>\n",
       "      <td id=\"T_f9168_row11_col5\" class=\"data row11 col5\" >0.0017</td>\n",
       "    </tr>\n",
       "  </tbody>\n",
       "</table>\n"
      ],
      "text/plain": [
       "<pandas.io.formats.style.Styler at 0x23d7f5b76d0>"
      ]
     },
     "metadata": {},
     "output_type": "display_data"
    },
    {
     "data": {
      "text/html": [],
      "text/plain": [
       "<IPython.core.display.HTML object>"
      ]
     },
     "metadata": {},
     "output_type": "display_data"
    },
    {
     "name": "stdout",
     "output_type": "stream",
     "text": [
      "Fitting 10 folds for each of 10 candidates, totalling 100 fits\n"
     ]
    }
   ],
   "source": [
    "tuned_model = tune_model(best_model)"
   ]
  },
  {
   "cell_type": "code",
   "execution_count": null,
   "metadata": {},
   "outputs": [
    {
     "data": {
      "application/vnd.jupyter.widget-view+json": {
       "model_id": "7efe5e1820dc46a6bd2c7652daca7c30",
       "version_major": 2,
       "version_minor": 0
      },
      "text/plain": [
       "interactive(children=(ToggleButtons(description='Plot Type:', icons=('',), options=(('Pipeline Plot', 'pipelin…"
      ]
     },
     "metadata": {},
     "output_type": "display_data"
    }
   ],
   "source": [
    "evaluate_model(tuned_model)"
   ]
  },
  {
   "cell_type": "code",
   "execution_count": null,
   "metadata": {},
   "outputs": [
    {
     "data": {
      "text/html": [
       "<style type=\"text/css\">\n",
       "</style>\n",
       "<table id=\"T_f27fa\">\n",
       "  <thead>\n",
       "    <tr>\n",
       "      <th class=\"blank level0\" >&nbsp;</th>\n",
       "      <th id=\"T_f27fa_level0_col0\" class=\"col_heading level0 col0\" >Model</th>\n",
       "      <th id=\"T_f27fa_level0_col1\" class=\"col_heading level0 col1\" >MAE</th>\n",
       "      <th id=\"T_f27fa_level0_col2\" class=\"col_heading level0 col2\" >MSE</th>\n",
       "      <th id=\"T_f27fa_level0_col3\" class=\"col_heading level0 col3\" >RMSE</th>\n",
       "      <th id=\"T_f27fa_level0_col4\" class=\"col_heading level0 col4\" >R2</th>\n",
       "      <th id=\"T_f27fa_level0_col5\" class=\"col_heading level0 col5\" >RMSLE</th>\n",
       "      <th id=\"T_f27fa_level0_col6\" class=\"col_heading level0 col6\" >MAPE</th>\n",
       "    </tr>\n",
       "  </thead>\n",
       "  <tbody>\n",
       "    <tr>\n",
       "      <th id=\"T_f27fa_level0_row0\" class=\"row_heading level0 row0\" >0</th>\n",
       "      <td id=\"T_f27fa_row0_col0\" class=\"data row0 col0\" >Light Gradient Boosting Machine</td>\n",
       "      <td id=\"T_f27fa_row0_col1\" class=\"data row0 col1\" >1.6269</td>\n",
       "      <td id=\"T_f27fa_row0_col2\" class=\"data row0 col2\" >3.1980</td>\n",
       "      <td id=\"T_f27fa_row0_col3\" class=\"data row0 col3\" >1.7883</td>\n",
       "      <td id=\"T_f27fa_row0_col4\" class=\"data row0 col4\" >0.0963</td>\n",
       "      <td id=\"T_f27fa_row0_col5\" class=\"data row0 col5\" >0.3235</td>\n",
       "      <td id=\"T_f27fa_row0_col6\" class=\"data row0 col6\" >0.4101</td>\n",
       "    </tr>\n",
       "  </tbody>\n",
       "</table>\n"
      ],
      "text/plain": [
       "<pandas.io.formats.style.Styler at 0x245a13f8790>"
      ]
     },
     "metadata": {},
     "output_type": "display_data"
    },
    {
     "name": "stdout",
     "output_type": "stream",
     "text": [
      "[LightGBM] [Warning] feature_fraction is set=0.5, colsample_bytree=1.0 will be ignored. Current value: feature_fraction=0.5\n",
      "[LightGBM] [Warning] bagging_fraction is set=0.7, subsample=1.0 will be ignored. Current value: bagging_fraction=0.7\n",
      "[LightGBM] [Warning] bagging_freq is set=6, subsample_freq=0 will be ignored. Current value: bagging_freq=6\n"
     ]
    }
   ],
   "source": [
    "predictions = predict_model(tuned_model, data=data)"
   ]
  },
  {
   "cell_type": "code",
   "execution_count": null,
   "metadata": {},
   "outputs": [
    {
     "data": {
      "text/html": [],
      "text/plain": [
       "<IPython.core.display.HTML object>"
      ]
     },
     "metadata": {},
     "output_type": "display_data"
    },
    {
     "data": {
      "image/png": "[encoded data removed]",
      "text/plain": [
       "<Figure size 800x500 with 1 Axes>"
      ]
     },
     "metadata": {},
     "output_type": "display_data"
    }
   ],
   "source": [
    "plot_model(tuned_model, plot = 'feature')"
   ]
  },
  {
   "cell_type": "code",
   "execution_count": null,
   "metadata": {},
   "outputs": [
    {
     "name": "stdout",
     "output_type": "stream",
     "text": [
      "Transformation Pipeline and Model Successfully Saved\n"
     ]
    },
    {
     "data": {
      "text/plain": [
       "(Pipeline(memory=Memory(location=None),\n",
       "          steps=[('numerical_imputer',\n",
       "                  TransformerWrapper(include=['USMER', 'MEDICAL_UNIT', 'SEX',\n",
       "                                              'PATIENT_TYPE', 'INTUBED',\n",
       "                                              'PNEUMONIA', 'AGE', 'PREGNANT',\n",
       "                                              'DIABETES', 'COPD', 'ASTHMA',\n",
       "                                              'INMSUPR', 'HIPERTENSION',\n",
       "                                              'OTHER_DISEASE', 'CARDIOVASCULAR',\n",
       "                                              'OBESITY', 'RENAL_CHRONIC',\n",
       "                                              'TOBACCO', 'ICU'],\n",
       "                                     transformer=SimpleImputer())),\n",
       "                 ('categorical_i...\n",
       "                 ('rest_encoding',\n",
       "                  TransformerWrapper(include=['DATE_DIED'],\n",
       "                                     transformer=TargetEncoder(cols=['DATE_DIED'],\n",
       "                                                               handle_missing='return_nan'))),\n",
       "                 ('trained_model',\n",
       "                  LGBMRegressor(bagging_fraction=0.7, bagging_freq=6,\n",
       "                                feature_fraction=0.5, min_child_samples=66,\n",
       "                                min_split_gain=0.4, n_estimators=90, n_jobs=-1,\n",
       "                                num_leaves=90, random_state=123,\n",
       "                                reg_alpha=0.0005, reg_lambda=0.1))]),\n",
       " 'tuned_xgboost_model.pkl')"
      ]
     },
     "execution_count": 9,
     "metadata": {},
     "output_type": "execute_result"
    }
   ],
   "source": [
    "save_model(tuned_model, 'tuned_xgboost_model')"
   ]
  },
  {
   "cell_type": "code",
   "execution_count": null,
   "metadata": {},
   "outputs": [
    {
     "ename": "TypeError",
     "evalue": "deploy_model() missing 1 required positional argument: 'authentication'",
     "output_type": "error",
     "traceback": [
      "\u001b[1;31m---------------------------------------------------------------------------\u001b[0m",
      "\u001b[1;31mTypeError\u001b[0m                                 Traceback (most recent call last)",
      "Cell \u001b[1;32mIn[9], line 1\u001b[0m\n\u001b[1;32m----> 1\u001b[0m deploy_model(tuned_model, model_name \u001b[38;5;241m=\u001b[39m\u001b[38;5;124m'\u001b[39m\u001b[38;5;124mtuned_xgboost_model\u001b[39m\u001b[38;5;124m'\u001b[39m)\n",
      "File \u001b[1;32mc:\\Users\\eigle\\anaconda3\\Lib\\site-packages\\pycaret\\utils\\generic.py:965\u001b[0m, in \u001b[0;36mcheck_if_global_is_not_none.<locals>.decorator.<locals>.wrapper\u001b[1;34m(*args, **kwargs)\u001b[0m\n\u001b[0;32m    963\u001b[0m     \u001b[38;5;28;01mif\u001b[39;00m globals_d[name] \u001b[38;5;129;01mis\u001b[39;00m \u001b[38;5;28;01mNone\u001b[39;00m:\n\u001b[0;32m    964\u001b[0m         \u001b[38;5;28;01mraise\u001b[39;00m \u001b[38;5;167;01mValueError\u001b[39;00m(message)\n\u001b[1;32m--> 965\u001b[0m \u001b[38;5;28;01mreturn\u001b[39;00m func(\u001b[38;5;241m*\u001b[39margs, \u001b[38;5;241m*\u001b[39m\u001b[38;5;241m*\u001b[39mkwargs)\n",
      "\u001b[1;31mTypeError\u001b[0m: deploy_model() missing 1 required positional argument: 'authentication'"
     ]
    }
   ],
   "source": [
    "deploy_model(tuned_model, model_name ='tuned_xgboost_model')"
   ]
  }
 ],
 "metadata": {
  "kernelspec": {
   "display_name": "env12",
   "language": "python",
   "name": "python3"
  },
  "language_info": {
   "codemirror_mode": {
    "name": "ipython",
    "version": 3
   },
   "file_extension": ".py",
   "mimetype": "text/x-python",
   "name": "python",
   "nbconvert_exporter": "python",
   "pygments_lexer": "ipython3",
   "version": "3.11.6"
  }
 },
 "nbformat": 4,
 "nbformat_minor": 2
}
